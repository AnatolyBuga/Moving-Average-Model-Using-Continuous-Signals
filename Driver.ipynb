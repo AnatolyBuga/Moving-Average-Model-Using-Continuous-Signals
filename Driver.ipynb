{
 "cells": [
  {
   "cell_type": "markdown",
   "id": "b75aa95c-131c-4d58-ac4d-7a5d5072f594",
   "metadata": {},
   "source": [
    "# Moving average model using continuous signals "
   ]
  },
  {
   "cell_type": "code",
   "execution_count": 2,
   "id": "2fd7c13f-e63f-4712-9f0c-38372f821ead",
   "metadata": {},
   "outputs": [],
   "source": [
    "# First import what we need\n",
    "import polars as pl\n",
    "from pprint import pprint\n",
    "from equally_weighted_portfolio import EquallyWeightedPortfolio"
   ]
  },
  {
   "cell_type": "code",
   "execution_count": 3,
   "id": "c3e38bbb-0223-4c2f-a672-89d22bd068d1",
   "metadata": {},
   "outputs": [],
   "source": [
    "# Read the data, let's read both AAPL data and other assets too\n",
    "data = pl.read_csv('data.csv', try_parse_dates = True)\n",
    "data2 = pl.read_csv('appl.csv', try_parse_dates = True)"
   ]
  },
  {
   "cell_type": "code",
   "execution_count": 4,
   "id": "b071ab01-fc6f-4900-867b-b7cce8a2752f",
   "metadata": {},
   "outputs": [],
   "source": [
    "# Set our parameters\n",
    "st_vol = (44, 0.7)\n",
    "lt_vol = (2560, 0.3)"
   ]
  },
  {
   "cell_type": "code",
   "execution_count": 6,
   "id": "34894aa9-3ead-4943-9fcb-210bd92a8373",
   "metadata": {},
   "outputs": [
    {
     "name": "stdout",
     "output_type": "stream",
     "text": [
      "derived ewma parameters: [(4, 0.4), (16, 0.11764705882352941), (64, 0.03076923076923077), (256, 0.007782101167315175)]\n",
      "derived weights for avg Signal capfloor: [0.3333333333333333, 0.3333333333333333, 0.3333333333333333]\n",
      "{'AAPL': (0.15825271658065132,\n",
      "          0.1852539557395434,\n",
      "          0.18247082201005793,\n",
      "          0.25032152546965825)}\n"
     ]
    }
   ],
   "source": [
    "# Run Model - only AAPL first\n",
    "# we can override any of the EquallyWeightedPortfolio's parameters\n",
    "# see class defenition for more information\n",
    "model = EquallyWeightedPortfolio(st_vol, lt_vol, first_ewma=4, n_ewma=4)\n",
    "\n",
    "res = model.run(data2) # We use default parameters, see function defenition for more \n",
    "percentages2 = model.compute_percentages()\n",
    "pprint(percentages2)"
   ]
  },
  {
   "cell_type": "markdown",
   "id": "313686ee-45ff-45e8-9d6b-e58476ea8acb",
   "metadata": {},
   "source": [
    "# Note res is a dataframe and you can do whatever you want with it. For example, you can save it as csv:"
   ]
  },
  {
   "cell_type": "code",
   "execution_count": null,
   "id": "de0f9ac1-04c9-4457-b5fb-a8cf23673466",
   "metadata": {},
   "outputs": [],
   "source": [
    "# res.write_csv('res.csv')"
   ]
  },
  {
   "cell_type": "code",
   "execution_count": 7,
   "id": "9413e03b-7a98-44c1-9b7d-3240c853d6ce",
   "metadata": {},
   "outputs": [
    {
     "name": "stdout",
     "output_type": "stream",
     "text": [
      "{'BITCOIN': (0.06623783117589932,\n",
      "             -0.045897498059005004,\n",
      "             -0.08723461899436313,\n",
      "             -0.02635920606203901),\n",
      " 'COPPER': (0.01572428308267959,\n",
      "            -0.026975512927576162,\n",
      "            -0.008349567099031563,\n",
      "            0.005973940112261378),\n",
      " 'EDOLLAR': (0.08576650579696188,\n",
      "             0.1437169284727129,\n",
      "             0.08704517448278848,\n",
      "             0.13000326026716924),\n",
      " 'GOLD': (0.03047173330245445,\n",
      "          0.003138880211774886,\n",
      "          0.026223368007591397,\n",
      "          0.032873555793955456),\n",
      " 'JPY': (0.08283589041122941,\n",
      "         0.08384895839168882,\n",
      "         0.05143099912013316,\n",
      "         0.07983825894241603),\n",
      " 'LEANHOG': (0.02229018407251382,\n",
      "             0.016679820110581334,\n",
      "             -0.051482748136671974,\n",
      "             0.006226150647581585),\n",
      " 'NIKKEI': (0.002759771624110119,\n",
      "            -0.04975197378175489,\n",
      "            0.048008144734899894,\n",
      "            -0.008961193384719013),\n",
      " 'SP500': (-0.11756344031988308,\n",
      "           -0.021705570978991284,\n",
      "           0.0729243319578814,\n",
      "           -0.029414179546096042),\n",
      " 'US10': (-0.044320644801762565,\n",
      "          -0.024281366144045413,\n",
      "          -0.01386596850032229,\n",
      "          -0.016132815210137874),\n",
      " 'WHEAT': (0.016819949988686078,\n",
      "           0.04651395634691835,\n",
      "           0.03614032257057298,\n",
      "           0.05415025378785221)}\n"
     ]
    }
   ],
   "source": [
    "# Run Model - Now let's run all asset classes\n",
    "# The run takes about 1 min. this is still highly effisient\n",
    "#we can override any of the EquallyWeightedPortfolio's parameters\n",
    "# see class defenition for more information\n",
    "res = model.run(data) # We use default parameters, see function defenition for more \n",
    "percentages = model.compute_percentages()\n",
    "pprint(percentages)"
   ]
  },
  {
   "cell_type": "code",
   "execution_count": null,
   "id": "536f44ac-3057-4bf8-8856-fd63b275ec40",
   "metadata": {},
   "outputs": [],
   "source": []
  }
 ],
 "metadata": {
  "kernelspec": {
   "display_name": "Python 3 (ipykernel)",
   "language": "python",
   "name": "python3"
  },
  "language_info": {
   "codemirror_mode": {
    "name": "ipython",
    "version": 3
   },
   "file_extension": ".py",
   "mimetype": "text/x-python",
   "name": "python",
   "nbconvert_exporter": "python",
   "pygments_lexer": "ipython3",
   "version": "3.9.0"
  }
 },
 "nbformat": 4,
 "nbformat_minor": 5
}
